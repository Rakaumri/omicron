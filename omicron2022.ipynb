{
 "cells": [
  {
   "cell_type": "code",
   "execution_count": 1,
   "id": "290065d1",
   "metadata": {
    "_cell_guid": "b1076dfc-b9ad-4769-8c92-a6c4dae69d19",
    "_uuid": "8f2839f25d086af736a60e9eeb907d3b93b6e0e5",
    "execution": {
     "iopub.execute_input": "2022-02-26T03:29:53.574173Z",
     "iopub.status.busy": "2022-02-26T03:29:53.571240Z",
     "iopub.status.idle": "2022-02-26T03:29:53.584828Z",
     "shell.execute_reply": "2022-02-26T03:29:53.585499Z",
     "shell.execute_reply.started": "2022-02-26T03:04:06.835083Z"
    },
    "papermill": {
     "duration": 0.05272,
     "end_time": "2022-02-26T03:29:53.585841",
     "exception": false,
     "start_time": "2022-02-26T03:29:53.533121",
     "status": "completed"
    },
    "tags": []
   },
   "outputs": [
    {
     "name": "stdout",
     "output_type": "stream",
     "text": [
      "/kaggle/input/omicron/omicron.csv\n"
     ]
    }
   ],
   "source": [
    "# This Python 3 environment comes with many helpful analytics libraries installed\n",
    "# It is defined by the kaggle/python Docker image: https://github.com/kaggle/docker-python\n",
    "# For example, here's several helpful packages to load\n",
    "\n",
    "import numpy as np # linear algebra\n",
    "import pandas as pd # data processing, CSV file I/O (e.g. pd.read_csv)\n",
    "\n",
    "# Input data files are available in the read-only \"../input/\" directory\n",
    "# For example, running this (by clicking run or pressing Shift+Enter) will list all files under the input directory\n",
    "\n",
    "import os\n",
    "for dirname, _, filenames in os.walk('/kaggle/input'):\n",
    "    for filename in filenames:\n",
    "        print(os.path.join(dirname, filename))\n",
    "\n",
    "# You can write up to 20GB to the current directory (/kaggle/working/) that gets preserved as output when you create a version using \"Save & Run All\" \n",
    "# You can also write temporary files to /kaggle/temp/, but they won't be saved outside of the current session"
   ]
  },
  {
   "cell_type": "markdown",
   "id": "f55be370",
   "metadata": {
    "papermill": {
     "duration": 0.029063,
     "end_time": "2022-02-26T03:29:53.646561",
     "exception": false,
     "start_time": "2022-02-26T03:29:53.617498",
     "status": "completed"
    },
    "tags": []
   },
   "source": [
    "## import numpy as np \n",
    "import pandas as pd\n",
    "import matplotlib\n",
    "import seaborn as sns\n",
    "import matplotlib.pyplot as plt\n",
    "%matplotlib inline \n",
    "from wordcloud import WordCloud, STOPWORDS"
   ]
  },
  {
   "cell_type": "code",
   "execution_count": 2,
   "id": "34e0b0d4",
   "metadata": {
    "execution": {
     "iopub.execute_input": "2022-02-26T03:29:53.709588Z",
     "iopub.status.busy": "2022-02-26T03:29:53.708787Z",
     "iopub.status.idle": "2022-02-26T03:29:54.921497Z",
     "shell.execute_reply": "2022-02-26T03:29:54.920353Z",
     "shell.execute_reply.started": "2022-02-26T03:05:03.654370Z"
    },
    "papermill": {
     "duration": 1.246059,
     "end_time": "2022-02-26T03:29:54.921665",
     "exception": false,
     "start_time": "2022-02-26T03:29:53.675606",
     "status": "completed"
    },
    "tags": []
   },
   "outputs": [],
   "source": [
    "tweets_df = pd.read_csv(\"/kaggle/input/omicron/omicron.csv\")"
   ]
  },
  {
   "cell_type": "code",
   "execution_count": 3,
   "id": "3e18961d",
   "metadata": {
    "execution": {
     "iopub.execute_input": "2022-02-26T03:29:54.988576Z",
     "iopub.status.busy": "2022-02-26T03:29:54.987644Z",
     "iopub.status.idle": "2022-02-26T03:29:54.991130Z",
     "shell.execute_reply": "2022-02-26T03:29:54.991670Z",
     "shell.execute_reply.started": "2022-02-26T03:05:22.450284Z"
    },
    "papermill": {
     "duration": 0.039167,
     "end_time": "2022-02-26T03:29:54.991843",
     "exception": false,
     "start_time": "2022-02-26T03:29:54.952676",
     "status": "completed"
    },
    "tags": []
   },
   "outputs": [
    {
     "name": "stdout",
     "output_type": "stream",
     "text": [
      "data shape: (72168, 16)\n"
     ]
    }
   ],
   "source": [
    "print(f\"data shape: {tweets_df.shape}\")"
   ]
  },
  {
   "cell_type": "code",
   "execution_count": 4,
   "id": "33c39493",
   "metadata": {
    "execution": {
     "iopub.execute_input": "2022-02-26T03:29:55.058446Z",
     "iopub.status.busy": "2022-02-26T03:29:55.057702Z",
     "iopub.status.idle": "2022-02-26T03:29:55.147423Z",
     "shell.execute_reply": "2022-02-26T03:29:55.146752Z",
     "shell.execute_reply.started": "2022-02-26T03:05:35.917874Z"
    },
    "papermill": {
     "duration": 0.12654,
     "end_time": "2022-02-26T03:29:55.147583",
     "exception": false,
     "start_time": "2022-02-26T03:29:55.021043",
     "status": "completed"
    },
    "tags": []
   },
   "outputs": [
    {
     "name": "stdout",
     "output_type": "stream",
     "text": [
      "<class 'pandas.core.frame.DataFrame'>\n",
      "RangeIndex: 72168 entries, 0 to 72167\n",
      "Data columns (total 16 columns):\n",
      " #   Column            Non-Null Count  Dtype \n",
      "---  ------            --------------  ----- \n",
      " 0   id                72168 non-null  int64 \n",
      " 1   user_name         72168 non-null  object\n",
      " 2   user_location     56156 non-null  object\n",
      " 3   user_description  67997 non-null  object\n",
      " 4   user_created      72168 non-null  object\n",
      " 5   user_followers    72168 non-null  int64 \n",
      " 6   user_friends      72168 non-null  int64 \n",
      " 7   user_favourites   72168 non-null  int64 \n",
      " 8   user_verified     72168 non-null  bool  \n",
      " 9   date              72168 non-null  object\n",
      " 10  text              72168 non-null  object\n",
      " 11  hashtags          51519 non-null  object\n",
      " 12  source            72168 non-null  object\n",
      " 13  retweets          72168 non-null  int64 \n",
      " 14  favorites         72168 non-null  int64 \n",
      " 15  is_retweet        72168 non-null  bool  \n",
      "dtypes: bool(2), int64(6), object(8)\n",
      "memory usage: 7.8+ MB\n"
     ]
    }
   ],
   "source": [
    "tweets_df.info()"
   ]
  },
  {
   "cell_type": "code",
   "execution_count": 5,
   "id": "3f4128d9",
   "metadata": {
    "execution": {
     "iopub.execute_input": "2022-02-26T03:29:55.211043Z",
     "iopub.status.busy": "2022-02-26T03:29:55.210301Z",
     "iopub.status.idle": "2022-02-26T03:29:55.265096Z",
     "shell.execute_reply": "2022-02-26T03:29:55.264441Z",
     "shell.execute_reply.started": "2022-02-26T03:05:46.149437Z"
    },
    "papermill": {
     "duration": 0.087511,
     "end_time": "2022-02-26T03:29:55.265275",
     "exception": false,
     "start_time": "2022-02-26T03:29:55.177764",
     "status": "completed"
    },
    "tags": []
   },
   "outputs": [
    {
     "data": {
      "text/html": [
       "<div>\n",
       "<style scoped>\n",
       "    .dataframe tbody tr th:only-of-type {\n",
       "        vertical-align: middle;\n",
       "    }\n",
       "\n",
       "    .dataframe tbody tr th {\n",
       "        vertical-align: top;\n",
       "    }\n",
       "\n",
       "    .dataframe thead th {\n",
       "        text-align: right;\n",
       "    }\n",
       "</style>\n",
       "<table border=\"1\" class=\"dataframe\">\n",
       "  <thead>\n",
       "    <tr style=\"text-align: right;\">\n",
       "      <th></th>\n",
       "      <th>id</th>\n",
       "      <th>user_followers</th>\n",
       "      <th>user_friends</th>\n",
       "      <th>user_favourites</th>\n",
       "      <th>retweets</th>\n",
       "      <th>favorites</th>\n",
       "    </tr>\n",
       "  </thead>\n",
       "  <tbody>\n",
       "    <tr>\n",
       "      <th>count</th>\n",
       "      <td>7.216800e+04</td>\n",
       "      <td>7.216800e+04</td>\n",
       "      <td>72168.000000</td>\n",
       "      <td>7.216800e+04</td>\n",
       "      <td>72168.000000</td>\n",
       "      <td>72168.000000</td>\n",
       "    </tr>\n",
       "    <tr>\n",
       "      <th>mean</th>\n",
       "      <td>1.473699e+18</td>\n",
       "      <td>1.691214e+05</td>\n",
       "      <td>1822.767348</td>\n",
       "      <td>1.863993e+04</td>\n",
       "      <td>1.802710</td>\n",
       "      <td>6.052142</td>\n",
       "    </tr>\n",
       "    <tr>\n",
       "      <th>std</th>\n",
       "      <td>7.004151e+15</td>\n",
       "      <td>1.149383e+06</td>\n",
       "      <td>9166.673947</td>\n",
       "      <td>5.464217e+04</td>\n",
       "      <td>16.291381</td>\n",
       "      <td>48.509257</td>\n",
       "    </tr>\n",
       "    <tr>\n",
       "      <th>min</th>\n",
       "      <td>1.465648e+18</td>\n",
       "      <td>0.000000e+00</td>\n",
       "      <td>0.000000</td>\n",
       "      <td>0.000000e+00</td>\n",
       "      <td>0.000000</td>\n",
       "      <td>0.000000</td>\n",
       "    </tr>\n",
       "    <tr>\n",
       "      <th>25%</th>\n",
       "      <td>1.467470e+18</td>\n",
       "      <td>1.130000e+02</td>\n",
       "      <td>97.000000</td>\n",
       "      <td>3.580000e+02</td>\n",
       "      <td>0.000000</td>\n",
       "      <td>0.000000</td>\n",
       "    </tr>\n",
       "    <tr>\n",
       "      <th>50%</th>\n",
       "      <td>1.471067e+18</td>\n",
       "      <td>8.040000e+02</td>\n",
       "      <td>453.000000</td>\n",
       "      <td>2.208000e+03</td>\n",
       "      <td>0.000000</td>\n",
       "      <td>1.000000</td>\n",
       "    </tr>\n",
       "    <tr>\n",
       "      <th>75%</th>\n",
       "      <td>1.479791e+18</td>\n",
       "      <td>4.737250e+03</td>\n",
       "      <td>1544.000000</td>\n",
       "      <td>1.358350e+04</td>\n",
       "      <td>1.000000</td>\n",
       "      <td>2.000000</td>\n",
       "    </tr>\n",
       "    <tr>\n",
       "      <th>max</th>\n",
       "      <td>1.488440e+18</td>\n",
       "      <td>1.663240e+07</td>\n",
       "      <td>386228.000000</td>\n",
       "      <td>1.471907e+06</td>\n",
       "      <td>1990.000000</td>\n",
       "      <td>3646.000000</td>\n",
       "    </tr>\n",
       "  </tbody>\n",
       "</table>\n",
       "</div>"
      ],
      "text/plain": [
       "                 id  user_followers   user_friends  user_favourites  \\\n",
       "count  7.216800e+04    7.216800e+04   72168.000000     7.216800e+04   \n",
       "mean   1.473699e+18    1.691214e+05    1822.767348     1.863993e+04   \n",
       "std    7.004151e+15    1.149383e+06    9166.673947     5.464217e+04   \n",
       "min    1.465648e+18    0.000000e+00       0.000000     0.000000e+00   \n",
       "25%    1.467470e+18    1.130000e+02      97.000000     3.580000e+02   \n",
       "50%    1.471067e+18    8.040000e+02     453.000000     2.208000e+03   \n",
       "75%    1.479791e+18    4.737250e+03    1544.000000     1.358350e+04   \n",
       "max    1.488440e+18    1.663240e+07  386228.000000     1.471907e+06   \n",
       "\n",
       "           retweets     favorites  \n",
       "count  72168.000000  72168.000000  \n",
       "mean       1.802710      6.052142  \n",
       "std       16.291381     48.509257  \n",
       "min        0.000000      0.000000  \n",
       "25%        0.000000      0.000000  \n",
       "50%        0.000000      1.000000  \n",
       "75%        1.000000      2.000000  \n",
       "max     1990.000000   3646.000000  "
      ]
     },
     "execution_count": 5,
     "metadata": {},
     "output_type": "execute_result"
    }
   ],
   "source": [
    "tweets_df.describe()"
   ]
  },
  {
   "cell_type": "code",
   "execution_count": 6,
   "id": "b8cfaf73",
   "metadata": {
    "execution": {
     "iopub.execute_input": "2022-02-26T03:29:55.348570Z",
     "iopub.status.busy": "2022-02-26T03:29:55.347839Z",
     "iopub.status.idle": "2022-02-26T03:29:55.350907Z",
     "shell.execute_reply": "2022-02-26T03:29:55.351417Z",
     "shell.execute_reply.started": "2022-02-26T03:05:57.576457Z"
    },
    "papermill": {
     "duration": 0.054417,
     "end_time": "2022-02-26T03:29:55.351594",
     "exception": false,
     "start_time": "2022-02-26T03:29:55.297177",
     "status": "completed"
    },
    "tags": []
   },
   "outputs": [
    {
     "data": {
      "text/html": [
       "<div>\n",
       "<style scoped>\n",
       "    .dataframe tbody tr th:only-of-type {\n",
       "        vertical-align: middle;\n",
       "    }\n",
       "\n",
       "    .dataframe tbody tr th {\n",
       "        vertical-align: top;\n",
       "    }\n",
       "\n",
       "    .dataframe thead th {\n",
       "        text-align: right;\n",
       "    }\n",
       "</style>\n",
       "<table border=\"1\" class=\"dataframe\">\n",
       "  <thead>\n",
       "    <tr style=\"text-align: right;\">\n",
       "      <th></th>\n",
       "      <th>id</th>\n",
       "      <th>user_name</th>\n",
       "      <th>user_location</th>\n",
       "      <th>user_description</th>\n",
       "      <th>user_created</th>\n",
       "      <th>user_followers</th>\n",
       "      <th>user_friends</th>\n",
       "      <th>user_favourites</th>\n",
       "      <th>user_verified</th>\n",
       "      <th>date</th>\n",
       "      <th>text</th>\n",
       "      <th>hashtags</th>\n",
       "      <th>source</th>\n",
       "      <th>retweets</th>\n",
       "      <th>favorites</th>\n",
       "      <th>is_retweet</th>\n",
       "    </tr>\n",
       "  </thead>\n",
       "  <tbody>\n",
       "    <tr>\n",
       "      <th>0</th>\n",
       "      <td>1465693385088323591</td>\n",
       "      <td>Abaris</td>\n",
       "      <td>Hants</td>\n",
       "      <td>Would appear on Blogger (did originally),  but...</td>\n",
       "      <td>2009-09-16 14:30:32</td>\n",
       "      <td>2880</td>\n",
       "      <td>4369</td>\n",
       "      <td>26907</td>\n",
       "      <td>False</td>\n",
       "      <td>2021-11-30 14:45:08</td>\n",
       "      <td>@SkyNews \"Told you I'd be Back!\" #OMICRON “Odi...</td>\n",
       "      <td>['OMICRON']</td>\n",
       "      <td>Twitter Web App</td>\n",
       "      <td>0</td>\n",
       "      <td>0</td>\n",
       "      <td>False</td>\n",
       "    </tr>\n",
       "    <tr>\n",
       "      <th>1</th>\n",
       "      <td>1465693062999412746</td>\n",
       "      <td>GFTs </td>\n",
       "      <td>Lalaland</td>\n",
       "      <td>There's a field somewhere beyond all doubt and...</td>\n",
       "      <td>2019-12-28 14:29:13</td>\n",
       "      <td>165</td>\n",
       "      <td>583</td>\n",
       "      <td>21152</td>\n",
       "      <td>False</td>\n",
       "      <td>2021-11-30 14:43:52</td>\n",
       "      <td>Someone told me this in October #Omicron https...</td>\n",
       "      <td>['Omicron']</td>\n",
       "      <td>Twitter for Android</td>\n",
       "      <td>0</td>\n",
       "      <td>0</td>\n",
       "      <td>False</td>\n",
       "    </tr>\n",
       "    <tr>\n",
       "      <th>2</th>\n",
       "      <td>1465690116442279942</td>\n",
       "      <td>Herbie Finkle (Cozy)</td>\n",
       "      <td>NaN</td>\n",
       "      <td>help me find me frens ❤️</td>\n",
       "      <td>2021-07-10 09:40:57</td>\n",
       "      <td>114</td>\n",
       "      <td>393</td>\n",
       "      <td>2339</td>\n",
       "      <td>False</td>\n",
       "      <td>2021-11-30 14:32:09</td>\n",
       "      <td>Glad to see the public schoolkids are wrapping...</td>\n",
       "      <td>['COVID']</td>\n",
       "      <td>Twitter Web App</td>\n",
       "      <td>0</td>\n",
       "      <td>1</td>\n",
       "      <td>False</td>\n",
       "    </tr>\n",
       "    <tr>\n",
       "      <th>3</th>\n",
       "      <td>1465689607165591552</td>\n",
       "      <td>Electrical Review</td>\n",
       "      <td>United Kingdom</td>\n",
       "      <td>Electrical Review is a monthly journal aimed a...</td>\n",
       "      <td>2009-05-21 08:32:19</td>\n",
       "      <td>20759</td>\n",
       "      <td>2321</td>\n",
       "      <td>739</td>\n",
       "      <td>False</td>\n",
       "      <td>2021-11-30 14:30:08</td>\n",
       "      <td>#Automation systems have become increasingly c...</td>\n",
       "      <td>['Automation']</td>\n",
       "      <td>Hootsuite Inc.</td>\n",
       "      <td>0</td>\n",
       "      <td>0</td>\n",
       "      <td>False</td>\n",
       "    </tr>\n",
       "    <tr>\n",
       "      <th>4</th>\n",
       "      <td>1465688203709464578</td>\n",
       "      <td>BingX Academy 🔑</td>\n",
       "      <td>NaN</td>\n",
       "      <td>BingX (Prev. Bingbon) is the world's top crypt...</td>\n",
       "      <td>2013-12-31 02:57:32</td>\n",
       "      <td>17134</td>\n",
       "      <td>8</td>\n",
       "      <td>31</td>\n",
       "      <td>False</td>\n",
       "      <td>2021-11-30 14:24:33</td>\n",
       "      <td>🟢 If u think Omicron is a FUD, you LONG📈\\n🔴 If...</td>\n",
       "      <td>NaN</td>\n",
       "      <td>Twitter Web App</td>\n",
       "      <td>2</td>\n",
       "      <td>2</td>\n",
       "      <td>False</td>\n",
       "    </tr>\n",
       "  </tbody>\n",
       "</table>\n",
       "</div>"
      ],
      "text/plain": [
       "                    id             user_name   user_location  \\\n",
       "0  1465693385088323591                Abaris           Hants   \n",
       "1  1465693062999412746                GFTs         Lalaland   \n",
       "2  1465690116442279942  Herbie Finkle (Cozy)             NaN   \n",
       "3  1465689607165591552     Electrical Review  United Kingdom   \n",
       "4  1465688203709464578       BingX Academy 🔑             NaN   \n",
       "\n",
       "                                    user_description         user_created  \\\n",
       "0  Would appear on Blogger (did originally),  but...  2009-09-16 14:30:32   \n",
       "1  There's a field somewhere beyond all doubt and...  2019-12-28 14:29:13   \n",
       "2                           help me find me frens ❤️  2021-07-10 09:40:57   \n",
       "3  Electrical Review is a monthly journal aimed a...  2009-05-21 08:32:19   \n",
       "4  BingX (Prev. Bingbon) is the world's top crypt...  2013-12-31 02:57:32   \n",
       "\n",
       "   user_followers  user_friends  user_favourites  user_verified  \\\n",
       "0            2880          4369            26907          False   \n",
       "1             165           583            21152          False   \n",
       "2             114           393             2339          False   \n",
       "3           20759          2321              739          False   \n",
       "4           17134             8               31          False   \n",
       "\n",
       "                  date                                               text  \\\n",
       "0  2021-11-30 14:45:08  @SkyNews \"Told you I'd be Back!\" #OMICRON “Odi...   \n",
       "1  2021-11-30 14:43:52  Someone told me this in October #Omicron https...   \n",
       "2  2021-11-30 14:32:09  Glad to see the public schoolkids are wrapping...   \n",
       "3  2021-11-30 14:30:08  #Automation systems have become increasingly c...   \n",
       "4  2021-11-30 14:24:33  🟢 If u think Omicron is a FUD, you LONG📈\\n🔴 If...   \n",
       "\n",
       "         hashtags               source  retweets  favorites  is_retweet  \n",
       "0     ['OMICRON']      Twitter Web App         0          0       False  \n",
       "1     ['Omicron']  Twitter for Android         0          0       False  \n",
       "2       ['COVID']      Twitter Web App         0          1       False  \n",
       "3  ['Automation']       Hootsuite Inc.         0          0       False  \n",
       "4             NaN      Twitter Web App         2          2       False  "
      ]
     },
     "execution_count": 6,
     "metadata": {},
     "output_type": "execute_result"
    }
   ],
   "source": [
    "tweets_df.head()"
   ]
  },
  {
   "cell_type": "code",
   "execution_count": 7,
   "id": "9aaab512",
   "metadata": {
    "execution": {
     "iopub.execute_input": "2022-02-26T03:29:55.424127Z",
     "iopub.status.busy": "2022-02-26T03:29:55.419394Z",
     "iopub.status.idle": "2022-02-26T03:29:55.425938Z",
     "shell.execute_reply": "2022-02-26T03:29:55.426610Z",
     "shell.execute_reply.started": "2022-02-26T03:06:23.733766Z"
    },
    "papermill": {
     "duration": 0.044162,
     "end_time": "2022-02-26T03:29:55.426788",
     "exception": false,
     "start_time": "2022-02-26T03:29:55.382626",
     "status": "completed"
    },
    "tags": []
   },
   "outputs": [],
   "source": [
    "def missing_data(data):\n",
    "    total = data.isnull().sum()\n",
    "    percent = (data.isnull().sum()/data.isnull().count()*100)\n",
    "    tt = pd.concat([total, percent], axis=1, keys=['Total', 'Percent'])\n",
    "    types = []\n",
    "    for col in data.columns:\n",
    "        dtype = str(data[col].dtype)\n",
    "        types.append(dtype)\n",
    "    tt['Types'] = types\n",
    "    return(np.transpose(tt))"
   ]
  },
  {
   "cell_type": "code",
   "execution_count": 8,
   "id": "769d26b2",
   "metadata": {
    "execution": {
     "iopub.execute_input": "2022-02-26T03:29:55.493052Z",
     "iopub.status.busy": "2022-02-26T03:29:55.492364Z",
     "iopub.status.idle": "2022-02-26T03:29:55.707348Z",
     "shell.execute_reply": "2022-02-26T03:29:55.707958Z",
     "shell.execute_reply.started": "2022-02-26T03:06:33.416549Z"
    },
    "papermill": {
     "duration": 0.249429,
     "end_time": "2022-02-26T03:29:55.708152",
     "exception": false,
     "start_time": "2022-02-26T03:29:55.458723",
     "status": "completed"
    },
    "tags": []
   },
   "outputs": [
    {
     "data": {
      "text/html": [
       "<div>\n",
       "<style scoped>\n",
       "    .dataframe tbody tr th:only-of-type {\n",
       "        vertical-align: middle;\n",
       "    }\n",
       "\n",
       "    .dataframe tbody tr th {\n",
       "        vertical-align: top;\n",
       "    }\n",
       "\n",
       "    .dataframe thead th {\n",
       "        text-align: right;\n",
       "    }\n",
       "</style>\n",
       "<table border=\"1\" class=\"dataframe\">\n",
       "  <thead>\n",
       "    <tr style=\"text-align: right;\">\n",
       "      <th></th>\n",
       "      <th>id</th>\n",
       "      <th>user_name</th>\n",
       "      <th>user_location</th>\n",
       "      <th>user_description</th>\n",
       "      <th>user_created</th>\n",
       "      <th>user_followers</th>\n",
       "      <th>user_friends</th>\n",
       "      <th>user_favourites</th>\n",
       "      <th>user_verified</th>\n",
       "      <th>date</th>\n",
       "      <th>text</th>\n",
       "      <th>hashtags</th>\n",
       "      <th>source</th>\n",
       "      <th>retweets</th>\n",
       "      <th>favorites</th>\n",
       "      <th>is_retweet</th>\n",
       "    </tr>\n",
       "  </thead>\n",
       "  <tbody>\n",
       "    <tr>\n",
       "      <th>Total</th>\n",
       "      <td>0</td>\n",
       "      <td>0</td>\n",
       "      <td>16012</td>\n",
       "      <td>4171</td>\n",
       "      <td>0</td>\n",
       "      <td>0</td>\n",
       "      <td>0</td>\n",
       "      <td>0</td>\n",
       "      <td>0</td>\n",
       "      <td>0</td>\n",
       "      <td>0</td>\n",
       "      <td>20649</td>\n",
       "      <td>0</td>\n",
       "      <td>0</td>\n",
       "      <td>0</td>\n",
       "      <td>0</td>\n",
       "    </tr>\n",
       "    <tr>\n",
       "      <th>Percent</th>\n",
       "      <td>0.0</td>\n",
       "      <td>0.0</td>\n",
       "      <td>22.187119</td>\n",
       "      <td>5.77957</td>\n",
       "      <td>0.0</td>\n",
       "      <td>0.0</td>\n",
       "      <td>0.0</td>\n",
       "      <td>0.0</td>\n",
       "      <td>0.0</td>\n",
       "      <td>0.0</td>\n",
       "      <td>0.0</td>\n",
       "      <td>28.612404</td>\n",
       "      <td>0.0</td>\n",
       "      <td>0.0</td>\n",
       "      <td>0.0</td>\n",
       "      <td>0.0</td>\n",
       "    </tr>\n",
       "    <tr>\n",
       "      <th>Types</th>\n",
       "      <td>int64</td>\n",
       "      <td>object</td>\n",
       "      <td>object</td>\n",
       "      <td>object</td>\n",
       "      <td>object</td>\n",
       "      <td>int64</td>\n",
       "      <td>int64</td>\n",
       "      <td>int64</td>\n",
       "      <td>bool</td>\n",
       "      <td>object</td>\n",
       "      <td>object</td>\n",
       "      <td>object</td>\n",
       "      <td>object</td>\n",
       "      <td>int64</td>\n",
       "      <td>int64</td>\n",
       "      <td>bool</td>\n",
       "    </tr>\n",
       "  </tbody>\n",
       "</table>\n",
       "</div>"
      ],
      "text/plain": [
       "            id user_name user_location user_description user_created  \\\n",
       "Total        0         0         16012             4171            0   \n",
       "Percent    0.0       0.0     22.187119          5.77957          0.0   \n",
       "Types    int64    object        object           object       object   \n",
       "\n",
       "        user_followers user_friends user_favourites user_verified    date  \\\n",
       "Total                0            0               0             0       0   \n",
       "Percent            0.0          0.0             0.0           0.0     0.0   \n",
       "Types            int64        int64           int64          bool  object   \n",
       "\n",
       "           text   hashtags  source retweets favorites is_retweet  \n",
       "Total         0      20649       0        0         0          0  \n",
       "Percent     0.0  28.612404     0.0      0.0       0.0        0.0  \n",
       "Types    object     object  object    int64     int64       bool  "
      ]
     },
     "execution_count": 8,
     "metadata": {},
     "output_type": "execute_result"
    }
   ],
   "source": [
    "missing_data(tweets_df)"
   ]
  },
  {
   "cell_type": "code",
   "execution_count": 9,
   "id": "cc396d00",
   "metadata": {
    "execution": {
     "iopub.execute_input": "2022-02-26T03:29:55.775374Z",
     "iopub.status.busy": "2022-02-26T03:29:55.774648Z",
     "iopub.status.idle": "2022-02-26T03:29:55.780041Z",
     "shell.execute_reply": "2022-02-26T03:29:55.780603Z",
     "shell.execute_reply.started": "2022-02-26T03:06:43.185084Z"
    },
    "papermill": {
     "duration": 0.040919,
     "end_time": "2022-02-26T03:29:55.780773",
     "exception": false,
     "start_time": "2022-02-26T03:29:55.739854",
     "status": "completed"
    },
    "tags": []
   },
   "outputs": [],
   "source": [
    "def unique_values(data):\n",
    "    total = data.count()\n",
    "    tt = pd.DataFrame(total)\n",
    "    tt.columns = ['Total']\n",
    "    uniques = []\n",
    "    for col in data.columns:\n",
    "        unique = data[col].nunique()\n",
    "        uniques.append(unique)\n",
    "    tt['Uniques'] = uniques\n",
    "    return(np.transpose(tt))"
   ]
  },
  {
   "cell_type": "code",
   "execution_count": 10,
   "id": "cb3041e1",
   "metadata": {
    "execution": {
     "iopub.execute_input": "2022-02-26T03:29:55.913688Z",
     "iopub.status.busy": "2022-02-26T03:29:55.913000Z",
     "iopub.status.idle": "2022-02-26T03:29:56.126353Z",
     "shell.execute_reply": "2022-02-26T03:29:56.125625Z",
     "shell.execute_reply.started": "2022-02-26T03:06:50.926278Z"
    },
    "papermill": {
     "duration": 0.313829,
     "end_time": "2022-02-26T03:29:56.126505",
     "exception": false,
     "start_time": "2022-02-26T03:29:55.812676",
     "status": "completed"
    },
    "tags": []
   },
   "outputs": [
    {
     "data": {
      "text/html": [
       "<div>\n",
       "<style scoped>\n",
       "    .dataframe tbody tr th:only-of-type {\n",
       "        vertical-align: middle;\n",
       "    }\n",
       "\n",
       "    .dataframe tbody tr th {\n",
       "        vertical-align: top;\n",
       "    }\n",
       "\n",
       "    .dataframe thead th {\n",
       "        text-align: right;\n",
       "    }\n",
       "</style>\n",
       "<table border=\"1\" class=\"dataframe\">\n",
       "  <thead>\n",
       "    <tr style=\"text-align: right;\">\n",
       "      <th></th>\n",
       "      <th>id</th>\n",
       "      <th>user_name</th>\n",
       "      <th>user_location</th>\n",
       "      <th>user_description</th>\n",
       "      <th>user_created</th>\n",
       "      <th>user_followers</th>\n",
       "      <th>user_friends</th>\n",
       "      <th>user_favourites</th>\n",
       "      <th>user_verified</th>\n",
       "      <th>date</th>\n",
       "      <th>text</th>\n",
       "      <th>hashtags</th>\n",
       "      <th>source</th>\n",
       "      <th>retweets</th>\n",
       "      <th>favorites</th>\n",
       "      <th>is_retweet</th>\n",
       "    </tr>\n",
       "  </thead>\n",
       "  <tbody>\n",
       "    <tr>\n",
       "      <th>Total</th>\n",
       "      <td>72168</td>\n",
       "      <td>72168</td>\n",
       "      <td>56156</td>\n",
       "      <td>67997</td>\n",
       "      <td>72168</td>\n",
       "      <td>72168</td>\n",
       "      <td>72168</td>\n",
       "      <td>72168</td>\n",
       "      <td>72168</td>\n",
       "      <td>72168</td>\n",
       "      <td>72168</td>\n",
       "      <td>51519</td>\n",
       "      <td>72168</td>\n",
       "      <td>72168</td>\n",
       "      <td>72168</td>\n",
       "      <td>72168</td>\n",
       "    </tr>\n",
       "    <tr>\n",
       "      <th>Uniques</th>\n",
       "      <td>72168</td>\n",
       "      <td>32632</td>\n",
       "      <td>10852</td>\n",
       "      <td>31513</td>\n",
       "      <td>32782</td>\n",
       "      <td>14564</td>\n",
       "      <td>6820</td>\n",
       "      <td>21728</td>\n",
       "      <td>2</td>\n",
       "      <td>67158</td>\n",
       "      <td>72048</td>\n",
       "      <td>21106</td>\n",
       "      <td>324</td>\n",
       "      <td>216</td>\n",
       "      <td>441</td>\n",
       "      <td>1</td>\n",
       "    </tr>\n",
       "  </tbody>\n",
       "</table>\n",
       "</div>"
      ],
      "text/plain": [
       "            id  user_name  user_location  user_description  user_created  \\\n",
       "Total    72168      72168          56156             67997         72168   \n",
       "Uniques  72168      32632          10852             31513         32782   \n",
       "\n",
       "         user_followers  user_friends  user_favourites  user_verified   date  \\\n",
       "Total             72168         72168            72168          72168  72168   \n",
       "Uniques           14564          6820            21728              2  67158   \n",
       "\n",
       "          text  hashtags  source  retweets  favorites  is_retweet  \n",
       "Total    72168     51519   72168     72168      72168       72168  \n",
       "Uniques  72048     21106     324       216        441           1  "
      ]
     },
     "execution_count": 10,
     "metadata": {},
     "output_type": "execute_result"
    }
   ],
   "source": [
    "unique_values(tweets_df)"
   ]
  },
  {
   "cell_type": "code",
   "execution_count": 11,
   "id": "ebb243fc",
   "metadata": {
    "execution": {
     "iopub.execute_input": "2022-02-26T03:29:56.199905Z",
     "iopub.status.busy": "2022-02-26T03:29:56.198871Z",
     "iopub.status.idle": "2022-02-26T03:29:56.202153Z",
     "shell.execute_reply": "2022-02-26T03:29:56.201530Z",
     "shell.execute_reply.started": "2022-02-26T03:07:02.539881Z"
    },
    "papermill": {
     "duration": 0.043486,
     "end_time": "2022-02-26T03:29:56.202310",
     "exception": false,
     "start_time": "2022-02-26T03:29:56.158824",
     "status": "completed"
    },
    "tags": []
   },
   "outputs": [],
   "source": [
    "def most_frequent_values(data):\n",
    "    total = data.count()\n",
    "    tt = pd.DataFrame(total)\n",
    "    tt.columns = ['Total']\n",
    "    items = []\n",
    "    vals = []\n",
    "    for col in data.columns:\n",
    "        itm = data[col].value_counts().index[0]\n",
    "        val = data[col].value_counts().values[0]\n",
    "        items.append(itm)\n",
    "        vals.append(val)\n",
    "    tt['Most frequent item'] = items\n",
    "    tt['Frequence'] = vals\n",
    "    tt['Percent from total'] = np.round(vals / total * 100, 3)\n",
    "    return(np.transpose(tt))"
   ]
  },
  {
   "cell_type": "code",
   "execution_count": 12,
   "id": "ce281565",
   "metadata": {
    "execution": {
     "iopub.execute_input": "2022-02-26T03:29:56.270572Z",
     "iopub.status.busy": "2022-02-26T03:29:56.269814Z",
     "iopub.status.idle": "2022-02-26T03:29:56.865634Z",
     "shell.execute_reply": "2022-02-26T03:29:56.866126Z",
     "shell.execute_reply.started": "2022-02-26T03:07:10.551896Z"
    },
    "papermill": {
     "duration": 0.631668,
     "end_time": "2022-02-26T03:29:56.866319",
     "exception": false,
     "start_time": "2022-02-26T03:29:56.234651",
     "status": "completed"
    },
    "tags": []
   },
   "outputs": [
    {
     "data": {
      "text/html": [
       "<div>\n",
       "<style scoped>\n",
       "    .dataframe tbody tr th:only-of-type {\n",
       "        vertical-align: middle;\n",
       "    }\n",
       "\n",
       "    .dataframe tbody tr th {\n",
       "        vertical-align: top;\n",
       "    }\n",
       "\n",
       "    .dataframe thead th {\n",
       "        text-align: right;\n",
       "    }\n",
       "</style>\n",
       "<table border=\"1\" class=\"dataframe\">\n",
       "  <thead>\n",
       "    <tr style=\"text-align: right;\">\n",
       "      <th></th>\n",
       "      <th>id</th>\n",
       "      <th>user_name</th>\n",
       "      <th>user_location</th>\n",
       "      <th>user_description</th>\n",
       "      <th>user_created</th>\n",
       "      <th>user_followers</th>\n",
       "      <th>user_friends</th>\n",
       "      <th>user_favourites</th>\n",
       "      <th>user_verified</th>\n",
       "      <th>date</th>\n",
       "      <th>text</th>\n",
       "      <th>hashtags</th>\n",
       "      <th>source</th>\n",
       "      <th>retweets</th>\n",
       "      <th>favorites</th>\n",
       "      <th>is_retweet</th>\n",
       "    </tr>\n",
       "  </thead>\n",
       "  <tbody>\n",
       "    <tr>\n",
       "      <th>Total</th>\n",
       "      <td>72168</td>\n",
       "      <td>72168</td>\n",
       "      <td>56156</td>\n",
       "      <td>67997</td>\n",
       "      <td>72168</td>\n",
       "      <td>72168</td>\n",
       "      <td>72168</td>\n",
       "      <td>72168</td>\n",
       "      <td>72168</td>\n",
       "      <td>72168</td>\n",
       "      <td>72168</td>\n",
       "      <td>51519</td>\n",
       "      <td>72168</td>\n",
       "      <td>72168</td>\n",
       "      <td>72168</td>\n",
       "      <td>72168</td>\n",
       "    </tr>\n",
       "    <tr>\n",
       "      <th>Most frequent item</th>\n",
       "      <td>1465693385088323591</td>\n",
       "      <td>Nathan Joyner</td>\n",
       "      <td>Los Angeles, CA</td>\n",
       "      <td>Global Venture Captial and Private Equity/Busi...</td>\n",
       "      <td>2015-05-18 20:52:29</td>\n",
       "      <td>48</td>\n",
       "      <td>8</td>\n",
       "      <td>0</td>\n",
       "      <td>False</td>\n",
       "      <td>2021-12-14 11:00:28</td>\n",
       "      <td>Nepal imposes ban on entry from nine countries...</td>\n",
       "      <td>['Omicron']</td>\n",
       "      <td>Twitter Web App</td>\n",
       "      <td>0</td>\n",
       "      <td>0</td>\n",
       "      <td>False</td>\n",
       "    </tr>\n",
       "    <tr>\n",
       "      <th>Frequence</th>\n",
       "      <td>1</td>\n",
       "      <td>4091</td>\n",
       "      <td>4342</td>\n",
       "      <td>4091</td>\n",
       "      <td>4091</td>\n",
       "      <td>994</td>\n",
       "      <td>2001</td>\n",
       "      <td>1604</td>\n",
       "      <td>61902</td>\n",
       "      <td>11</td>\n",
       "      <td>8</td>\n",
       "      <td>13625</td>\n",
       "      <td>25417</td>\n",
       "      <td>48896</td>\n",
       "      <td>35915</td>\n",
       "      <td>72168</td>\n",
       "    </tr>\n",
       "    <tr>\n",
       "      <th>Percent from total</th>\n",
       "      <td>0.001</td>\n",
       "      <td>5.669</td>\n",
       "      <td>7.732</td>\n",
       "      <td>6.016</td>\n",
       "      <td>5.669</td>\n",
       "      <td>1.377</td>\n",
       "      <td>2.773</td>\n",
       "      <td>2.223</td>\n",
       "      <td>85.775</td>\n",
       "      <td>0.015</td>\n",
       "      <td>0.011</td>\n",
       "      <td>26.447</td>\n",
       "      <td>35.219</td>\n",
       "      <td>67.753</td>\n",
       "      <td>49.766</td>\n",
       "      <td>100.0</td>\n",
       "    </tr>\n",
       "  </tbody>\n",
       "</table>\n",
       "</div>"
      ],
      "text/plain": [
       "                                     id      user_name    user_location  \\\n",
       "Total                             72168          72168            56156   \n",
       "Most frequent item  1465693385088323591  Nathan Joyner  Los Angeles, CA   \n",
       "Frequence                             1           4091             4342   \n",
       "Percent from total                0.001          5.669            7.732   \n",
       "\n",
       "                                                     user_description  \\\n",
       "Total                                                           67997   \n",
       "Most frequent item  Global Venture Captial and Private Equity/Busi...   \n",
       "Frequence                                                        4091   \n",
       "Percent from total                                              6.016   \n",
       "\n",
       "                           user_created user_followers user_friends  \\\n",
       "Total                             72168          72168        72168   \n",
       "Most frequent item  2015-05-18 20:52:29             48            8   \n",
       "Frequence                          4091            994         2001   \n",
       "Percent from total                5.669          1.377        2.773   \n",
       "\n",
       "                   user_favourites user_verified                 date  \\\n",
       "Total                        72168         72168                72168   \n",
       "Most frequent item               0         False  2021-12-14 11:00:28   \n",
       "Frequence                     1604         61902                   11   \n",
       "Percent from total           2.223        85.775                0.015   \n",
       "\n",
       "                                                                 text  \\\n",
       "Total                                                           72168   \n",
       "Most frequent item  Nepal imposes ban on entry from nine countries...   \n",
       "Frequence                                                           8   \n",
       "Percent from total                                              0.011   \n",
       "\n",
       "                       hashtags           source retweets favorites is_retweet  \n",
       "Total                     51519            72168    72168     72168      72168  \n",
       "Most frequent item  ['Omicron']  Twitter Web App        0         0      False  \n",
       "Frequence                 13625            25417    48896     35915      72168  \n",
       "Percent from total       26.447           35.219   67.753    49.766      100.0  "
      ]
     },
     "execution_count": 12,
     "metadata": {},
     "output_type": "execute_result"
    }
   ],
   "source": [
    "most_frequent_values(tweets_df)"
   ]
  },
  {
   "cell_type": "code",
   "execution_count": 13,
   "id": "eaaad9fa",
   "metadata": {
    "execution": {
     "iopub.execute_input": "2022-02-26T03:29:56.943203Z",
     "iopub.status.busy": "2022-02-26T03:29:56.942491Z",
     "iopub.status.idle": "2022-02-26T03:29:56.946804Z",
     "shell.execute_reply": "2022-02-26T03:29:56.946208Z",
     "shell.execute_reply.started": "2022-02-26T03:07:21.035324Z"
    },
    "papermill": {
     "duration": 0.046259,
     "end_time": "2022-02-26T03:29:56.946960",
     "exception": false,
     "start_time": "2022-02-26T03:29:56.900701",
     "status": "completed"
    },
    "tags": []
   },
   "outputs": [],
   "source": [
    "def plot_count(feature, title, df, size=1, ordered=True):\n",
    "    f, ax = plt.subplots(1,1, figsize=(4*size,4))\n",
    "    total = float(len(df))\n",
    "    if ordered:\n",
    "        g = sns.countplot(df[feature], order = df[feature].value_counts().index[:20], palette='Set3')\n",
    "    else:\n",
    "        g = sns.countplot(df[feature], palette='Set3')\n",
    "    g.set_title(\"Number and percentage of {}\".format(title))\n",
    "    if(size > 2):\n",
    "        plt.xticks(rotation=90, size=8)\n",
    "    for p in ax.patches:\n",
    "        height = p.get_height()\n",
    "        ax.text(p.get_x()+p.get_width()/2.,\n",
    "                height + 3,\n",
    "                '{:1.2f}%'.format(100*height/total),\n",
    "                ha=\"center\") \n",
    "    plt.show()    "
   ]
  },
  {
   "cell_type": "code",
   "execution_count": 14,
   "id": "873e5b97",
   "metadata": {
    "execution": {
     "iopub.execute_input": "2022-02-26T03:29:57.017833Z",
     "iopub.status.busy": "2022-02-26T03:29:57.016823Z",
     "iopub.status.idle": "2022-02-26T03:29:57.097647Z",
     "shell.execute_reply": "2022-02-26T03:29:57.096804Z",
     "shell.execute_reply.started": "2022-02-26T03:07:30.523097Z"
    },
    "papermill": {
     "duration": 0.117518,
     "end_time": "2022-02-26T03:29:57.097956",
     "exception": true,
     "start_time": "2022-02-26T03:29:56.980438",
     "status": "failed"
    },
    "tags": []
   },
   "outputs": [
    {
     "ename": "NameError",
     "evalue": "name 'plt' is not defined",
     "output_type": "error",
     "traceback": [
      "\u001b[0;31m---------------------------------------------------------------------------\u001b[0m",
      "\u001b[0;31mNameError\u001b[0m                                 Traceback (most recent call last)",
      "\u001b[0;32m/tmp/ipykernel_19/3384213414.py\u001b[0m in \u001b[0;36m<module>\u001b[0;34m\u001b[0m\n\u001b[0;32m----> 1\u001b[0;31m \u001b[0mplot_count\u001b[0m\u001b[0;34m(\u001b[0m\u001b[0;34m\"user_name\"\u001b[0m\u001b[0;34m,\u001b[0m \u001b[0;34m\"User name\"\u001b[0m\u001b[0;34m,\u001b[0m \u001b[0mtweets_df\u001b[0m\u001b[0;34m,\u001b[0m\u001b[0;36m4\u001b[0m\u001b[0;34m)\u001b[0m\u001b[0;34m\u001b[0m\u001b[0;34m\u001b[0m\u001b[0m\n\u001b[0m",
      "\u001b[0;32m/tmp/ipykernel_19/3160465789.py\u001b[0m in \u001b[0;36mplot_count\u001b[0;34m(feature, title, df, size, ordered)\u001b[0m\n\u001b[1;32m      1\u001b[0m \u001b[0;32mdef\u001b[0m \u001b[0mplot_count\u001b[0m\u001b[0;34m(\u001b[0m\u001b[0mfeature\u001b[0m\u001b[0;34m,\u001b[0m \u001b[0mtitle\u001b[0m\u001b[0;34m,\u001b[0m \u001b[0mdf\u001b[0m\u001b[0;34m,\u001b[0m \u001b[0msize\u001b[0m\u001b[0;34m=\u001b[0m\u001b[0;36m1\u001b[0m\u001b[0;34m,\u001b[0m \u001b[0mordered\u001b[0m\u001b[0;34m=\u001b[0m\u001b[0;32mTrue\u001b[0m\u001b[0;34m)\u001b[0m\u001b[0;34m:\u001b[0m\u001b[0;34m\u001b[0m\u001b[0;34m\u001b[0m\u001b[0m\n\u001b[0;32m----> 2\u001b[0;31m     \u001b[0mf\u001b[0m\u001b[0;34m,\u001b[0m \u001b[0max\u001b[0m \u001b[0;34m=\u001b[0m \u001b[0mplt\u001b[0m\u001b[0;34m.\u001b[0m\u001b[0msubplots\u001b[0m\u001b[0;34m(\u001b[0m\u001b[0;36m1\u001b[0m\u001b[0;34m,\u001b[0m\u001b[0;36m1\u001b[0m\u001b[0;34m,\u001b[0m \u001b[0mfigsize\u001b[0m\u001b[0;34m=\u001b[0m\u001b[0;34m(\u001b[0m\u001b[0;36m4\u001b[0m\u001b[0;34m*\u001b[0m\u001b[0msize\u001b[0m\u001b[0;34m,\u001b[0m\u001b[0;36m4\u001b[0m\u001b[0;34m)\u001b[0m\u001b[0;34m)\u001b[0m\u001b[0;34m\u001b[0m\u001b[0;34m\u001b[0m\u001b[0m\n\u001b[0m\u001b[1;32m      3\u001b[0m     \u001b[0mtotal\u001b[0m \u001b[0;34m=\u001b[0m \u001b[0mfloat\u001b[0m\u001b[0;34m(\u001b[0m\u001b[0mlen\u001b[0m\u001b[0;34m(\u001b[0m\u001b[0mdf\u001b[0m\u001b[0;34m)\u001b[0m\u001b[0;34m)\u001b[0m\u001b[0;34m\u001b[0m\u001b[0;34m\u001b[0m\u001b[0m\n\u001b[1;32m      4\u001b[0m     \u001b[0;32mif\u001b[0m \u001b[0mordered\u001b[0m\u001b[0;34m:\u001b[0m\u001b[0;34m\u001b[0m\u001b[0;34m\u001b[0m\u001b[0m\n\u001b[1;32m      5\u001b[0m         \u001b[0mg\u001b[0m \u001b[0;34m=\u001b[0m \u001b[0msns\u001b[0m\u001b[0;34m.\u001b[0m\u001b[0mcountplot\u001b[0m\u001b[0;34m(\u001b[0m\u001b[0mdf\u001b[0m\u001b[0;34m[\u001b[0m\u001b[0mfeature\u001b[0m\u001b[0;34m]\u001b[0m\u001b[0;34m,\u001b[0m \u001b[0morder\u001b[0m \u001b[0;34m=\u001b[0m \u001b[0mdf\u001b[0m\u001b[0;34m[\u001b[0m\u001b[0mfeature\u001b[0m\u001b[0;34m]\u001b[0m\u001b[0;34m.\u001b[0m\u001b[0mvalue_counts\u001b[0m\u001b[0;34m(\u001b[0m\u001b[0;34m)\u001b[0m\u001b[0;34m.\u001b[0m\u001b[0mindex\u001b[0m\u001b[0;34m[\u001b[0m\u001b[0;34m:\u001b[0m\u001b[0;36m20\u001b[0m\u001b[0;34m]\u001b[0m\u001b[0;34m,\u001b[0m \u001b[0mpalette\u001b[0m\u001b[0;34m=\u001b[0m\u001b[0;34m'Set3'\u001b[0m\u001b[0;34m)\u001b[0m\u001b[0;34m\u001b[0m\u001b[0;34m\u001b[0m\u001b[0m\n",
      "\u001b[0;31mNameError\u001b[0m: name 'plt' is not defined"
     ]
    }
   ],
   "source": [
    "plot_count(\"user_name\", \"User name\", tweets_df,4)"
   ]
  },
  {
   "cell_type": "code",
   "execution_count": null,
   "id": "e6e62ef9",
   "metadata": {
    "execution": {
     "iopub.execute_input": "2022-02-26T03:07:49.745407Z",
     "iopub.status.busy": "2022-02-26T03:07:49.745182Z",
     "iopub.status.idle": "2022-02-26T03:07:50.150028Z",
     "shell.execute_reply": "2022-02-26T03:07:50.149350Z",
     "shell.execute_reply.started": "2022-02-26T03:07:49.745370Z"
    },
    "papermill": {
     "duration": null,
     "end_time": null,
     "exception": null,
     "start_time": null,
     "status": "pending"
    },
    "tags": []
   },
   "outputs": [],
   "source": [
    "plot_count(\"user_location\", \"User location\", tweets_df,4)"
   ]
  },
  {
   "cell_type": "code",
   "execution_count": null,
   "id": "4f14092d",
   "metadata": {
    "execution": {
     "iopub.execute_input": "2022-02-26T03:07:58.421802Z",
     "iopub.status.busy": "2022-02-26T03:07:58.421539Z",
     "iopub.status.idle": "2022-02-26T03:07:58.717575Z",
     "shell.execute_reply": "2022-02-26T03:07:58.717183Z",
     "shell.execute_reply.started": "2022-02-26T03:07:58.421776Z"
    },
    "papermill": {
     "duration": null,
     "end_time": null,
     "exception": null,
     "start_time": null,
     "status": "pending"
    },
    "tags": []
   },
   "outputs": [],
   "source": [
    "plot_count(\"source\", \"Source\", tweets_df,4)"
   ]
  },
  {
   "cell_type": "code",
   "execution_count": null,
   "id": "77a661f6",
   "metadata": {
    "execution": {
     "iopub.execute_input": "2022-02-26T03:08:08.535438Z",
     "iopub.status.busy": "2022-02-26T03:08:08.535122Z",
     "iopub.status.idle": "2022-02-26T03:08:08.540611Z",
     "shell.execute_reply": "2022-02-26T03:08:08.540023Z",
     "shell.execute_reply.started": "2022-02-26T03:08:08.535416Z"
    },
    "papermill": {
     "duration": null,
     "end_time": null,
     "exception": null,
     "start_time": null,
     "status": "pending"
    },
    "tags": []
   },
   "outputs": [],
   "source": [
    "stopwords = set(STOPWORDS)\n",
    "\n",
    "def show_wordcloud(data, title = None):\n",
    "    wordcloud = WordCloud(\n",
    "        background_color='white',\n",
    "        stopwords=stopwords,\n",
    "        max_words=50,\n",
    "        max_font_size=40, \n",
    "        scale=5,\n",
    "        random_state=1\n",
    "    ).generate(str(data))\n",
    "\n",
    "    fig = plt.figure(1, figsize=(10,10))\n",
    "    plt.axis('off')\n",
    "    if title: \n",
    "        fig.suptitle(title, fontsize=20)\n",
    "        fig.subplots_adjust(top=2.3)\n",
    "\n",
    "    plt.imshow(wordcloud)\n",
    "    plt.show()"
   ]
  },
  {
   "cell_type": "code",
   "execution_count": null,
   "id": "77afe278",
   "metadata": {
    "execution": {
     "iopub.execute_input": "2022-02-26T03:08:17.768012Z",
     "iopub.status.busy": "2022-02-26T03:08:17.767781Z",
     "iopub.status.idle": "2022-02-26T03:08:18.372709Z",
     "shell.execute_reply": "2022-02-26T03:08:18.372263Z",
     "shell.execute_reply.started": "2022-02-26T03:08:17.767987Z"
    },
    "papermill": {
     "duration": null,
     "end_time": null,
     "exception": null,
     "start_time": null,
     "status": "pending"
    },
    "tags": []
   },
   "outputs": [],
   "source": [
    "show_wordcloud(tweets_df['text'], title = 'Prevalent words in tweets')"
   ]
  },
  {
   "cell_type": "code",
   "execution_count": null,
   "id": "dbe26424",
   "metadata": {
    "execution": {
     "iopub.execute_input": "2022-02-26T03:08:31.161219Z",
     "iopub.status.busy": "2022-02-26T03:08:31.160993Z",
     "iopub.status.idle": "2022-02-26T03:08:31.705970Z",
     "shell.execute_reply": "2022-02-26T03:08:31.705052Z",
     "shell.execute_reply.started": "2022-02-26T03:08:31.161196Z"
    },
    "papermill": {
     "duration": null,
     "end_time": null,
     "exception": null,
     "start_time": null,
     "status": "pending"
    },
    "tags": []
   },
   "outputs": [],
   "source": [
    "india_df = tweets_df.loc[tweets_df.user_location==\"India\"]\n",
    "show_wordcloud(india_df['text'], title = 'Prevalent words in tweets from India')"
   ]
  },
  {
   "cell_type": "code",
   "execution_count": null,
   "id": "f5cd97b2",
   "metadata": {
    "execution": {
     "iopub.execute_input": "2022-02-26T03:08:44.847501Z",
     "iopub.status.busy": "2022-02-26T03:08:44.847247Z",
     "iopub.status.idle": "2022-02-26T03:08:45.558554Z",
     "shell.execute_reply": "2022-02-26T03:08:45.557473Z",
     "shell.execute_reply.started": "2022-02-26T03:08:44.847475Z"
    },
    "papermill": {
     "duration": null,
     "end_time": null,
     "exception": null,
     "start_time": null,
     "status": "pending"
    },
    "tags": []
   },
   "outputs": [],
   "source": [
    "us_df = tweets_df.loc[tweets_df.user_location==\"United States\"]\n",
    "show_wordcloud(us_df['text'], title = 'Prevalent words in tweets from US')"
   ]
  },
  {
   "cell_type": "code",
   "execution_count": null,
   "id": "cb7da4ee",
   "metadata": {
    "execution": {
     "iopub.execute_input": "2022-02-26T03:09:10.229168Z",
     "iopub.status.busy": "2022-02-26T03:09:10.228711Z",
     "iopub.status.idle": "2022-02-26T03:09:10.989106Z",
     "shell.execute_reply": "2022-02-26T03:09:10.988376Z",
     "shell.execute_reply.started": "2022-02-26T03:09:10.229121Z"
    },
    "papermill": {
     "duration": null,
     "end_time": null,
     "exception": null,
     "start_time": null,
     "status": "pending"
    },
    "tags": []
   },
   "outputs": [],
   "source": [
    "us_df = tweets_df.loc[tweets_df.user_location==\"United Kingdom\"]\n",
    "show_wordcloud(us_df['text'], title = 'Prevalent words in tweets from UK')"
   ]
  },
  {
   "cell_type": "code",
   "execution_count": null,
   "id": "5c6e764c",
   "metadata": {
    "execution": {
     "iopub.execute_input": "2022-02-26T03:09:23.542538Z",
     "iopub.status.busy": "2022-02-26T03:09:23.542261Z",
     "iopub.status.idle": "2022-02-26T03:09:24.198531Z",
     "shell.execute_reply": "2022-02-26T03:09:24.198031Z",
     "shell.execute_reply.started": "2022-02-26T03:09:23.542510Z"
    },
    "papermill": {
     "duration": null,
     "end_time": null,
     "exception": null,
     "start_time": null,
     "status": "pending"
    },
    "tags": []
   },
   "outputs": [],
   "source": [
    "us_df = tweets_df.loc[tweets_df.user_location==\"Canada\"]\n",
    "show_wordcloud(us_df['text'], title = 'Prevalent words in tweets from Canada')"
   ]
  },
  {
   "cell_type": "code",
   "execution_count": null,
   "id": "6f37a798",
   "metadata": {
    "execution": {
     "iopub.execute_input": "2022-02-26T03:09:37.057949Z",
     "iopub.status.busy": "2022-02-26T03:09:37.057331Z",
     "iopub.status.idle": "2022-02-26T03:09:37.621276Z",
     "shell.execute_reply": "2022-02-26T03:09:37.620356Z",
     "shell.execute_reply.started": "2022-02-26T03:09:37.057916Z"
    },
    "papermill": {
     "duration": null,
     "end_time": null,
     "exception": null,
     "start_time": null,
     "status": "pending"
    },
    "tags": []
   },
   "outputs": [],
   "source": [
    "india_df = tweets_df.loc[tweets_df.user_location==\"South Africa\"]\n",
    "show_wordcloud(india_df['text'], title = 'Prevalent words in tweets from South Africa')"
   ]
  },
  {
   "cell_type": "code",
   "execution_count": null,
   "id": "655db2ae",
   "metadata": {
    "execution": {
     "iopub.execute_input": "2022-02-26T03:09:51.047682Z",
     "iopub.status.busy": "2022-02-26T03:09:51.047418Z",
     "iopub.status.idle": "2022-02-26T03:09:51.658970Z",
     "shell.execute_reply": "2022-02-26T03:09:51.658449Z",
     "shell.execute_reply.started": "2022-02-26T03:09:51.047651Z"
    },
    "papermill": {
     "duration": null,
     "end_time": null,
     "exception": null,
     "start_time": null,
     "status": "pending"
    },
    "tags": []
   },
   "outputs": [],
   "source": [
    "india_df = tweets_df.loc[tweets_df.user_location==\"Switzerland\"]\n",
    "show_wordcloud(india_df['text'], title = 'Prevalent words in tweets from Switzerland')"
   ]
  },
  {
   "cell_type": "code",
   "execution_count": null,
   "id": "86bb143a",
   "metadata": {
    "execution": {
     "iopub.execute_input": "2022-02-26T03:10:04.086034Z",
     "iopub.status.busy": "2022-02-26T03:10:04.085509Z",
     "iopub.status.idle": "2022-02-26T03:10:04.738381Z",
     "shell.execute_reply": "2022-02-26T03:10:04.737637Z",
     "shell.execute_reply.started": "2022-02-26T03:10:04.086006Z"
    },
    "papermill": {
     "duration": null,
     "end_time": null,
     "exception": null,
     "start_time": null,
     "status": "pending"
    },
    "tags": []
   },
   "outputs": [],
   "source": [
    "us_df = tweets_df.loc[tweets_df.user_location==\"London\"]\n",
    "show_wordcloud(us_df['text'], title = 'Prevalent words in tweets from London')"
   ]
  },
  {
   "cell_type": "code",
   "execution_count": null,
   "id": "77cfab6b",
   "metadata": {
    "execution": {
     "iopub.execute_input": "2022-02-26T03:10:17.281916Z",
     "iopub.status.busy": "2022-02-26T03:10:17.281712Z",
     "iopub.status.idle": "2022-02-26T03:10:17.287365Z",
     "shell.execute_reply": "2022-02-26T03:10:17.286631Z",
     "shell.execute_reply.started": "2022-02-26T03:10:17.281895Z"
    },
    "papermill": {
     "duration": null,
     "end_time": null,
     "exception": null,
     "start_time": null,
     "status": "pending"
    },
    "tags": []
   },
   "outputs": [],
   "source": [
    "def plot_features_distribution(features, title, df, isLog=False):\n",
    "    plt.figure(figsize=(12,6))\n",
    "    plt.title(title)\n",
    "    for feature in features:\n",
    "        if(isLog):\n",
    "            sns.distplot(np.log1p(df[feature]),kde=True,hist=False, bins=120, label=feature)\n",
    "        else:\n",
    "            sns.distplot(df[feature],kde=True,hist=False, bins=120, label=feature)\n",
    "    plt.xlabel('')\n",
    "    plt.legend()\n",
    "    plt.show()"
   ]
  },
  {
   "cell_type": "code",
   "execution_count": null,
   "id": "ca67c548",
   "metadata": {
    "execution": {
     "iopub.execute_input": "2022-02-26T03:10:28.557634Z",
     "iopub.status.busy": "2022-02-26T03:10:28.557370Z",
     "iopub.status.idle": "2022-02-26T03:10:29.184690Z",
     "shell.execute_reply": "2022-02-26T03:10:29.184135Z",
     "shell.execute_reply.started": "2022-02-26T03:10:28.557612Z"
    },
    "papermill": {
     "duration": null,
     "end_time": null,
     "exception": null,
     "start_time": null,
     "status": "pending"
    },
    "tags": []
   },
   "outputs": [],
   "source": [
    "tweets_df['hashtags'] = tweets_df['hashtags'].replace(np.nan, \"['None']\", regex=True)\n",
    "tweets_df['hashtags'] = tweets_df['hashtags'].apply(lambda x: x.replace('\\\\N',''))\n",
    "tweets_df['hashtags_count'] = tweets_df['hashtags'].apply(lambda x: len(x.split(',')))\n",
    "plot_features_distribution(['hashtags_count'], 'Hashtags per tweet (all data)', tweets_df)"
   ]
  }
 ],
 "metadata": {
  "kernelspec": {
   "display_name": "Python 3",
   "language": "python",
   "name": "python3"
  },
  "language_info": {
   "codemirror_mode": {
    "name": "ipython",
    "version": 3
   },
   "file_extension": ".py",
   "mimetype": "text/x-python",
   "name": "python",
   "nbconvert_exporter": "python",
   "pygments_lexer": "ipython3",
   "version": "3.7.12"
  },
  "papermill": {
   "default_parameters": {},
   "duration": 15.358708,
   "end_time": "2022-02-26T03:29:57.842304",
   "environment_variables": {},
   "exception": true,
   "input_path": "__notebook__.ipynb",
   "output_path": "__notebook__.ipynb",
   "parameters": {},
   "start_time": "2022-02-26T03:29:42.483596",
   "version": "2.3.3"
  }
 },
 "nbformat": 4,
 "nbformat_minor": 5
}
